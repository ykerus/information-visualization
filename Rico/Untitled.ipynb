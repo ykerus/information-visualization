{
 "cells": [
  {
   "cell_type": "code",
   "execution_count": 3,
   "metadata": {},
   "outputs": [
    {
     "name": "stdout",
     "output_type": "stream",
     "text": [
      "0         2007\n",
      "1         1366\n",
      "2         1754\n",
      "3         2010\n",
      "4         2009\n",
      "          ... \n",
      "334274    2017\n",
      "334275    2004\n",
      "334276    1700\n",
      "334277    1715\n",
      "334278    1725\n",
      "Name: creation_year, Length: 334279, dtype: int64\n"
     ]
    }
   ],
   "source": [
    "import pandas as pandas\n",
    "\n",
    "def loadData():\n",
    "\tdf = pandas.read_json(r'./data.json')\n",
    "\tprint(df['creation_year'])\n",
    "\n",
    "\n",
    "loadData()"
   ]
  }
 ],
 "metadata": {
  "kernelspec": {
   "display_name": "Python 3",
   "language": "python",
   "name": "python3"
  },
  "language_info": {
   "codemirror_mode": {
    "name": "ipython",
    "version": 3
   },
   "file_extension": ".py",
   "mimetype": "text/x-python",
   "name": "python",
   "nbconvert_exporter": "python",
   "pygments_lexer": "ipython3",
   "version": "3.6.9"
  }
 },
 "nbformat": 4,
 "nbformat_minor": 2
}
